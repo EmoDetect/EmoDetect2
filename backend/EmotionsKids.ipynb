{
  "cells": [
    {
      "cell_type": "markdown",
      "metadata": {
        "colab_type": "text",
        "id": "view-in-github"
      },
      "source": [
        "<a href=\"https://colab.research.google.com/github/EmoDetect/emodetect/blob/main/EmotionsKids.ipynb\" target=\"_parent\"><img src=\"https://colab.research.google.com/assets/colab-badge.svg\" alt=\"Open In Colab\"/></a>"
      ]
    },
    {
      "cell_type": "code",
      "execution_count": null,
      "metadata": {
        "id": "hdEGTpEocDn3"
      },
      "outputs": [],
      "source": [
        "import pandas as pd\n",
        "import cv2\n",
        "import numpy as np\n",
        "import matplotlib.pyplot as plt\n",
        "import tensorflow\n",
        "### CNN models ###\n",
        "import keras\n",
        "from tensorflow.keras.preprocessing.image import ImageDataGenerator, array_to_img, img_to_array, load_img\n",
        "from tensorflow.keras.callbacks import CSVLogger, ModelCheckpoint, EarlyStopping,ReduceLROnPlateau\n",
        "from tensorflow.keras.models import Sequential\n",
        "from keras.layers.core import Dense, Dropout, Activation, Flatten\n",
        "from keras.layers.convolutional import Conv2D, MaxPooling2D, SeparableConv2D\n",
        "from keras.utils import np_utils\n",
        "from tensorflow.keras.regularizers import l2\n",
        "from tensorflow.keras.optimizers import SGD, RMSprop\n",
        "from tensorflow.keras.utils import to_categorical\n",
        "from keras.layers.normalization import BatchNormalization\n",
        "from tensorflow.keras import models\n",
        "from keras.utils.vis_utils import plot_model\n",
        "from tensorflow.keras.layers import Input, GlobalAveragePooling2D,concatenate\n",
        "from tensorflow.keras.models import Model\n",
        "from tensorflow.keras import layers\n",
        "from tensorflow.keras.applications.inception_v3 import InceptionV3\n",
        "\n",
        "\n",
        "from sklearn.model_selection import train_test_split\n",
        "from sklearn.metrics import accuracy_score\n",
        "from sklearn.metrics import plot_confusion_matrix\n",
        "from sklearn.metrics import classification_report\n",
        "from sklearn.metrics import roc_curve, roc_auc_score"
      ]
    },
    {
      "cell_type": "markdown",
      "metadata": {
        "id": "YmuEHOyKmJkZ"
      },
      "source": [
        "Parameters"
      ]
    },
    {
      "cell_type": "code",
      "execution_count": null,
      "metadata": {
        "id": "pWX2oXjmmIG7"
      },
      "outputs": [],
      "source": [
        "batch_size = 16\n",
        "num_epochs = 50\n",
        "input_shape = (48, 48, 1)\n",
        "validation_split = .2\n",
        "verbose = 1\n",
        "num_classes = 7\n",
        "base_path = 'models/'\n",
        "shape_x = 48\n",
        "shape_y = 48\n",
        "image_size=(48,48)\n",
        "labels = ['Angry', 'Disgust', 'Fear', 'Happy', 'Sad', 'Surprise', 'Neutral']"
      ]
    },
    {
      "cell_type": "markdown",
      "metadata": {
        "id": "5XZZwLpem5l-"
      },
      "source": [
        "Data"
      ]
    },
    {
      "cell_type": "code",
      "execution_count": null,
      "metadata": {
        "colab": {
          "base_uri": "https://localhost:8080/"
        },
        "id": "jjMQS_ksmzNU",
        "outputId": "b9ff83f7-a701-4e06-ae5c-7df6c50330ec"
      },
      "outputs": [],
      "source": [
        "data = pd.read_csv('./data/fer2013/fer2013.csv')\n",
        "data = data.head(500)\n",
        "print(len(data))"
      ]
    },
    {
      "cell_type": "code",
      "execution_count": null,
      "metadata": {
        "id": "zoAR6Lvcnu91"
      },
      "outputs": [],
      "source": [
        "data['pixels']=data['pixels'].astype(\"string\")\n",
        "# print(data['pixels'])\n",
        "pixels = data['pixels'].tolist()\n",
        "width, height = 48, 48\n",
        "faces = []\n",
        "\n",
        "# iterate through all pixels and create a matrix(face) of size 48 x 48\n",
        "for pixel_sequence in pixels:\n",
        "    face = [int(pixel) for pixel in pixel_sequence.strip().split(' ',48*48)]\n",
        "    if len(face) == 2304:\n",
        "      face = np.asarray(face).reshape(width, height)\n",
        "      face = cv2.resize(face.astype('uint8'),image_size)\n",
        "      faces.append(face.astype('float32'))\n",
        "# last = faces[-1]\n",
        "# faces.append(last)\n",
        "# del faces[-1]\n",
        "faces = np.asarray(faces)\n",
        "faces = np.expand_dims(faces, -1)\n",
        "\n",
        "faces /= 127.5\n",
        "faces -= 1.\n",
        "\n",
        "emotions = pd.get_dummies(data['emotion']).to_numpy()"
      ]
    },
    {
      "cell_type": "code",
      "execution_count": null,
      "metadata": {
        "colab": {
          "base_uri": "https://localhost:8080/"
        },
        "id": "0PG9n3oPgOBW",
        "outputId": "fb2d5802-6772-4973-aea6-8174856a705f"
      },
      "outputs": [],
      "source": [
        "print(len(faces))"
      ]
    },
    {
      "cell_type": "code",
      "execution_count": null,
      "metadata": {
        "id": "gPn2BERLqIA7"
      },
      "outputs": [],
      "source": [
        "datagen = ImageDataGenerator(\n",
        "        zoom_range=0.2,          # randomly zoom into images\n",
        "        rotation_range=10,       # randomly rotate images in the range (degrees, 0 to 180)\n",
        "        width_shift_range=0.1,   # randomly shift images horizontally (fraction of total width)\n",
        "        height_shift_range=0.1,  # randomly shift images vertically (fraction of total height)\n",
        "        horizontal_flip=True,    # randomly flip images\n",
        "        vertical_flip=False)     # randomly flip images"
      ]
    },
    {
      "cell_type": "code",
      "execution_count": null,
      "metadata": {
        "id": "2-eLIjD2qNCa"
      },
      "outputs": [],
      "source": [
        "xtrain, xtest,ytrain,ytest = train_test_split(faces, emotions,test_size=0.3,shuffle=True)\n",
        "xval,xtest,yval,ytest=train_test_split(xtest,ytest,test_size=0.3,shuffle=True)"
      ]
    },
    {
      "cell_type": "markdown",
      "metadata": {
        "id": "F6uZrnhrrVNd"
      },
      "source": [
        "CNN"
      ]
    },
    {
      "cell_type": "code",
      "execution_count": null,
      "metadata": {
        "id": "dzL0R1nurWkC"
      },
      "outputs": [],
      "source": [
        "def CNN():\n",
        "    model = Sequential(name='CNN')\n",
        "    model.add(Conv2D(64, (3, 3), padding='same', input_shape=(48,48,1)))\n",
        "    model.add(BatchNormalization())\n",
        "    model.add(Activation('relu'))\n",
        "    model.add(MaxPooling2D(pool_size=(2, 2), strides=None, padding='same'))\n",
        "    model.add(Dropout(0.25))\n",
        "\n",
        "    model.add(Conv2D(128, (3, 3), padding='same'))\n",
        "    model.add(BatchNormalization())\n",
        "    model.add(Activation('relu'))\n",
        "    model.add(MaxPooling2D(pool_size=(2, 2), strides=None, padding='same'))\n",
        "    model.add(Dropout(0.25))\n",
        "\n",
        "    model.add(Conv2D(256, (3, 3), padding='same'))\n",
        "    model.add(BatchNormalization())\n",
        "    model.add(Activation('relu'))\n",
        "    model.add(MaxPooling2D(pool_size=(2, 2), strides=None, padding='same'))\n",
        "    model.add(Dropout(0.25))\n",
        "\n",
        "    model.add(Conv2D(512, (3, 3), padding='same'))\n",
        "    model.add(BatchNormalization())\n",
        "    model.add(Activation('relu'))\n",
        "    model.add(MaxPooling2D(pool_size=(2, 2), strides=None, padding='same'))\n",
        "    model.add(Dropout(0.25))\n",
        "\n",
        "    model.add(Flatten())\n",
        "\n",
        "    model.add(Dense(512))\n",
        "    model.add(BatchNormalization())\n",
        "    model.add(Activation('relu'))\n",
        "    model.add(Dropout(0.25))\n",
        "\n",
        "    model.add(Dense(256))\n",
        "    model.add(BatchNormalization())\n",
        "    model.add(Activation('relu'))\n",
        "    model.add(Dropout(0.25))\n",
        "\n",
        "    model.add(Dense(7))\n",
        "    model.add(Activation('softmax'))\n",
        "    \n",
        "    return model"
      ]
    },
    {
      "cell_type": "code",
      "execution_count": null,
      "metadata": {
        "id": "euBSbhmSra7D"
      },
      "outputs": [],
      "source": [
        "CNN=CNN()"
      ]
    },
    {
      "cell_type": "markdown",
      "metadata": {
        "id": "j4ewjjO2tHYQ"
      },
      "source": [
        "Training"
      ]
    },
    {
      "cell_type": "code",
      "execution_count": null,
      "metadata": {
        "id": "l6m7ZJA0tIVD"
      },
      "outputs": [],
      "source": [
        "early_stop = EarlyStopping('val_loss', patience=100)\n",
        "reduce_lr = ReduceLROnPlateau('val_loss', factor=0.1,\n",
        "                                  patience=25, min_lr=0.00001,model='auto')\n",
        "trained_models_path = base_path + 'CNN'\n",
        "model_names = trained_models_path + '.{epoch:02d}-{val_accuracy:.2f}.hdf5'\n",
        "model_checkpoint = ModelCheckpoint(model_names, 'val_loss', verbose=1,\n",
        "                                                    save_best_only=True)\n",
        "callbacks = [model_checkpoint, early_stop, reduce_lr]"
      ]
    },
    {
      "cell_type": "code",
      "execution_count": null,
      "metadata": {
        "id": "4TaET0afu0Y7"
      },
      "outputs": [],
      "source": [
        "CNN.compile(optimizer='adam', loss='categorical_crossentropy', metrics=['accuracy'])"
      ]
    },
    {
      "cell_type": "code",
      "execution_count": null,
      "metadata": {
        "colab": {
          "base_uri": "https://localhost:8080/"
        },
        "id": "ROCUgP7gtYA0",
        "outputId": "8cdc45a9-70ac-494e-e762-fe8a72dca95e"
      },
      "outputs": [],
      "source": [
        "CNN_history =CNN.fit(datagen.flow(xtrain, ytrain, batch_size),\n",
        "          steps_per_epoch=len(xtrain) / batch_size, \n",
        "          epochs=num_epochs, \n",
        "          verbose=1, \n",
        "          callbacks=callbacks,\n",
        "          validation_data=(xval,yval))"
      ]
    },
    {
      "cell_type": "code",
      "execution_count": null,
      "metadata": {
        "colab": {
          "base_uri": "https://localhost:8080/",
          "height": 1000
        },
        "id": "R28lZ8iFyotr",
        "outputId": "7427e8e7-4b98-473a-e512-ae654410da65"
      },
      "outputs": [],
      "source": [
        "fig,axes=plt.subplots(2,2,figsize=(20, 20))\n",
        "for (m,history), ax in zip({'CNN':CNN_history}.items(),axes):\n",
        "    # Loss Curves\n",
        "    \n",
        "    ax[0].plot(history.history['loss'],'r',linewidth=2.0)\n",
        "    ax[0].plot(history.history['val_loss'],'b',linewidth=2.0)\n",
        "    ax[0].legend(['Training loss', 'Validation Loss'],fontsize=18)\n",
        "    ax[0].set_xlabel('Epochs ',fontsize=16)\n",
        "    ax[0].set_ylabel('Loss',fontsize=16)\n",
        "    ax[0].set_title('Loss Curves '+m,fontsize=16)\n",
        " \n",
        "    # Accuracy Curves\n",
        "    ax[1].plot(history.history['accuracy'],'r',linewidth=2.0)\n",
        "    ax[1].plot(history.history['val_accuracy'],'b',linewidth=2.0)\n",
        "    ax[1].legend(['Training Accuracy', 'Validation Accuracy'],fontsize=18)\n",
        "    ax[1].set_xlabel('Epochs ',fontsize=16)\n",
        "    ax[1].set_ylabel('Accuracy',fontsize=16)\n",
        "    ax[1].set_title('Accuracy Curves '+m,fontsize=16)"
      ]
    },
    {
      "cell_type": "code",
      "execution_count": null,
      "metadata": {
        "colab": {
          "base_uri": "https://localhost:8080/"
        },
        "id": "WTRJRrG4ziqm",
        "outputId": "3dd16ec5-3a56-43e4-a895-08fefd47deee"
      },
      "outputs": [],
      "source": [
        "ypred=CNN.predict(xtest)\n",
        "ypred_=np.argmax(ypred, axis=1)\n",
        "ytest_=np.argmax(ytest, axis=1)\n",
        "print(classification_report(ytest_, ypred_,digits=3))"
      ]
    },
    {
      "cell_type": "code",
      "execution_count": null,
      "metadata": {
        "colab": {
          "base_uri": "https://localhost:8080/",
          "height": 727
        },
        "id": "NjUKW9jR2VPH",
        "outputId": "b9100e05-d19f-425c-aa3b-9fbf0a57c658"
      },
      "outputs": [],
      "source": [
        "# import itertools\n",
        "# from sklearn.metrics import confusion_matrix\n",
        "# from matplotlib.pyplot import figure\n",
        "\n",
        "\n",
        "# fig = figure(figsize=(10, 10))\n",
        "\n",
        "# ypred=CNN.predict(xtest[:1])\n",
        "# rounded_predections=np.argmax(ypred, axis=1)\n",
        "# print(rounded_predections)\n",
        "# rounded_labels=np.argmax(ytest, axis=1)\n",
        "# print(rounded_labels)\n",
        "\n",
        "# cm = confusion_matrix(rounded_labels, rounded_predections)\n",
        "# title='Confusion matrix '+CNN.name\n",
        "    \n",
        "\n",
        "# plt.imshow(cm, interpolation='nearest', cmap=plt.cm.Blues)\n",
        "# plt.title(title)\n",
        "# plt.colorbar()\n",
        "# tick_marks = np.arange(len(labels))\n",
        "# plt.xticks(tick_marks, labels, rotation=45)\n",
        "# plt.yticks(tick_marks, labels)\n",
        "# fmt = 'd'\n",
        "# thresh = cm.max() / 2.\n",
        "# for i, j in itertools.product(range(cm.shape[0]), range(cm.shape[1])):\n",
        "#     plt.text(j, i, format(cm[i, j], fmt),\n",
        "#             horizontalalignment=\"center\",\n",
        "#             color=\"white\" if cm[i, j] > thresh else \"black\")\n",
        "    \n",
        "# plt.ylabel('True label')\n",
        "# plt.xlabel('Predicted label')\n",
        "# plt.tight_layout()\n",
        "# plt.show()"
      ]
    },
    {
      "cell_type": "code",
      "execution_count": null,
      "metadata": {},
      "outputs": [],
      "source": [
        "from werkzeug.wrappers import Request, Response\n",
        "from flask import Flask, request\n",
        "from flask_restful import Resource, Api\n",
        "\n",
        "app = Flask(__name__)\n",
        "\n",
        "@app.route('/emotion')\n",
        "def get_emotion():\n",
        "    return {'hello': 'world'}\n",
        "\n",
        "\n",
        "@app.route('/postImage', methods=['POST'])\n",
        "def post_image():\n",
        "    if request.method == 'POST':\n",
        "       return convert_image(request.get_json())\n",
        "\n",
        "def shutdown_server():\n",
        "    func = request.environ.get('werkzeug.server.shutdown')\n",
        "    if func is None:\n",
        "        raise RuntimeError('Not running with the Werkzeug Server')\n",
        "    func()\n",
        "\n",
        "@app.get('/shutdown')\n",
        "def shutdown():\n",
        "    shutdown_server()\n",
        "    return 'Server shutting down...'\n",
        "\n",
        "\n",
        "if __name__ == '__main__':\n",
        "    from werkzeug.serving import run_simple\n",
        "    run_simple('localhost', 5000, app)"
      ]
    },
    {
      "cell_type": "code",
      "execution_count": null,
      "metadata": {},
      "outputs": [],
      "source": [
        "def convert_image(encoded_image):\n",
        "    from PIL import Image\n",
        "    import base64\n",
        "    import io\n",
        "    import numpy as np\n",
        "    import torch\n",
        "\n",
        "    base64_decoded = base64.b64decode(encoded_image)\n",
        "\n",
        "    image = Image.open(io.BytesIO(base64_decoded))\n",
        "    pixels_image = image.getdata()\n",
        "    pixels_image = list(pixels_image)\n",
        "\n",
        "    pixels_list = []\n",
        "\n",
        "    for tuple in pixels_image:\n",
        "        gray = tuple[0] * 0.299 + tuple[1] * 0.587 + tuple[2] * 0.114\n",
        "        pixels_list.append(gray)\n",
        "\n",
        "    print(len(pixels_list))\n",
        "\n",
        "    width, height = 1024, 768\n",
        "    faces = []\n",
        "\n",
        "    face = pixels_list\n",
        "\n",
        "    face = np.asarray(face).reshape(width, height)\n",
        "    face = cv2.resize(face.astype('uint8'),image_size)\n",
        "    faces.append(face.astype('float32'))\n",
        "\n",
        "    faces = np.asarray(faces)\n",
        "    faces = np.expand_dims(faces, -1)\n",
        "\n",
        "    import itertools\n",
        "    from sklearn.metrics import confusion_matrix\n",
        "    from matplotlib.pyplot import figure\n",
        "\n",
        "\n",
        "    fig = figure(figsize=(10, 10))\n",
        "\n",
        "    ypred=CNN.predict(faces)\n",
        "    rounded_predections=np.argmax(ypred, axis=1)\n",
        "    return rounded_predections[0]"
      ]
    },
    {
      "cell_type": "code",
      "execution_count": null,
      "metadata": {},
      "outputs": [],
      "source": [
        "import itertools\n",
        "from sklearn.metrics import confusion_matrix\n",
        "from matplotlib.pyplot import figure\n",
        "\n",
        "\n",
        "fig = figure(figsize=(10, 10))\n",
        "\n",
        "ypred=CNN.predict(faces)\n",
        "rounded_predections=np.argmax(ypred, axis=1)\n",
        "print(rounded_predections)\n",
        "# rounded_labels=np.argmax(ytest, axis=1)\n",
        "# print(rounded_labels)"
      ]
    }
  ],
  "metadata": {
    "colab": {
      "collapsed_sections": [],
      "include_colab_link": true,
      "name": "EmotionsKids.ipynb",
      "provenance": []
    },
    "kernelspec": {
      "display_name": "Python 3",
      "name": "python3"
    },
    "language_info": {
      "codemirror_mode": {
        "name": "ipython",
        "version": 3
      },
      "file_extension": ".py",
      "mimetype": "text/x-python",
      "name": "python",
      "nbconvert_exporter": "python",
      "pygments_lexer": "ipython3",
      "version": "3.9.9"
    }
  },
  "nbformat": 4,
  "nbformat_minor": 0
}
